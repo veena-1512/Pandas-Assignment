{
 "cells": [
  {
   "attachments": {},
   "cell_type": "markdown",
   "id": "c46f6829-82d3-48b7-9828-d4ae979ff0b7",
   "metadata": {},
   "source": [
    "Q1. Pandas Series that contains the following data: 4, 8, 15, 16, 23, and 42. Then, print the series."
   ]
  },
  {
   "cell_type": "code",
   "execution_count": 1,
   "id": "56dba157-0d05-486c-aa04-6afd8bd9fe51",
   "metadata": {},
   "outputs": [],
   "source": [
    "import pandas as pd"
   ]
  },
  {
   "cell_type": "code",
   "execution_count": 2,
   "id": "1b9845cf-a699-4d71-8766-a59e8a02a02f",
   "metadata": {},
   "outputs": [
    {
     "name": "stdout",
     "output_type": "stream",
     "text": [
      "0     4\n",
      "1     8\n",
      "2    15\n",
      "3    16\n",
      "4    23\n",
      "5    42\n",
      "dtype: int64\n"
     ]
    }
   ],
   "source": [
    "data = [4, 8, 15, 16, 23, 42]\n",
    "series = pd.Series(data)\n",
    "print(series)"
   ]
  },
  {
   "attachments": {},
   "cell_type": "markdown",
   "id": "2c7ce14e-1f0d-412f-a827-740e95e5019d",
   "metadata": {},
   "source": [
    "Q 2.Variable of list type containing 10 elements.and apply pandas.Series function on the varable."
   ]
  },
  {
   "cell_type": "code",
   "execution_count": 7,
   "id": "3cf350a3-2f38-4814-a1e6-954c695876c7",
   "metadata": {},
   "outputs": [],
   "source": [
    "my_list = [1, 2, 3, 4, 5, 6, 7, 8, 9, 10]"
   ]
  },
  {
   "cell_type": "code",
   "execution_count": 8,
   "id": "e5b1297a-1c92-4f7d-86ac-d5f5d16b3147",
   "metadata": {},
   "outputs": [
    {
     "name": "stdout",
     "output_type": "stream",
     "text": [
      "0     1\n",
      "1     2\n",
      "2     3\n",
      "3     4\n",
      "4     5\n",
      "5     6\n",
      "6     7\n",
      "7     8\n",
      "8     9\n",
      "9    10\n",
      "dtype: int64\n"
     ]
    }
   ],
   "source": [
    "series = pd.Series(my_list)\n",
    "print(series)"
   ]
  },
  {
   "attachments": {},
   "cell_type": "markdown",
   "id": "73d78967-9eb9-4d78-999d-d0c6d868bce9",
   "metadata": {},
   "source": [
    "Q 3 A Pandas DataFrame that contains the following data:"
   ]
  },
  {
   "cell_type": "code",
   "execution_count": 13,
   "id": "adee1b12-a0ae-4eee-b268-1549e54ad9e9",
   "metadata": {},
   "outputs": [
    {
     "name": "stdout",
     "output_type": "stream",
     "text": [
      "     Name Age  Gender\n",
      "0   Alice  25  Female\n",
      "1     Bob  30    Male\n",
      "2  Claire  27  Female\n"
     ]
    }
   ],
   "source": [
    "data={'Name': ['Alice','Bob','Claire'],'Age':['25','30','27'],'Gender':[ 'Female','Male','Female']}\n",
    "df = pd.DataFrame(data)\n",
    "print(df)"
   ]
  },
  {
   "attachments": {},
   "cell_type": "markdown",
   "id": "d77d7958-5c06-4038-858c-80034527972c",
   "metadata": {},
   "source": [
    "Q 4 ‘DataFrame’ in pandas and how is it different from pandas.series?"
   ]
  },
  {
   "cell_type": "code",
   "execution_count": 15,
   "id": "2d09173e-8e0f-47fa-a289-616e27e5b205",
   "metadata": {},
   "outputs": [
    {
     "name": "stdout",
     "output_type": "stream",
     "text": [
      "     Name  Age  Gender\n",
      "0   Alice   25  Female\n",
      "1     Bob   30    Male\n",
      "2  Claire   27  Female\n"
     ]
    }
   ],
   "source": [
    "data = {\n",
    "    'Name': ['Alice', 'Bob', 'Claire'],\n",
    "    'Age': [25, 30, 27],\n",
    "    'Gender': ['Female', 'Male', 'Female']\n",
    "}\n",
    "\n",
    "df = pd.DataFrame(data)\n",
    "print(df)"
   ]
  },
  {
   "cell_type": "code",
   "execution_count": 16,
   "id": "85c2814c-8003-4218-b35b-c8001158ab97",
   "metadata": {},
   "outputs": [
    {
     "name": "stdout",
     "output_type": "stream",
     "text": [
      "Series:\n",
      "0    25\n",
      "1    30\n",
      "2    27\n",
      "Name: Age, dtype: int64\n"
     ]
    }
   ],
   "source": [
    "# Creating a Series\n",
    "ages = pd.Series([25, 30, 27], name='Age')\n",
    "print(\"Series:\")\n",
    "print(ages)"
   ]
  },
  {
   "attachments": {},
   "cell_type": "markdown",
   "id": "39306d48-80f9-43df-9c78-90e83df218ee",
   "metadata": {},
   "source": [
    "Q 5 Pandas provides a wide range of functions to manipulate and transform data in a DataFrame. Here are some commonly used functions:\n",
    "1.'head'() and 'tail'()\n",
    "2.'info'()\n",
    "3. 'describe'()\n",
    "4. 'shapes'()\n",
    "5. 'unique'()\n",
    "6. 'sort_values'()\n",
    "7. 'groupby'()\n",
    "8. 'category'()\n",
    "9. 'drop'()\n",
    "10. 'Fillna'()\n",
    "11. 'apply'()\n",
    "12. 'merge'()\n",
    "13. ' join()'"
   ]
  },
  {
   "cell_type": "code",
   "execution_count": 2,
   "id": "d1ddaab1-c43f-4db8-8bf7-b1e7c0316c5a",
   "metadata": {},
   "outputs": [
    {
     "name": "stdout",
     "output_type": "stream",
     "text": [
      "Category\n",
      "X    310\n",
      "Y    520\n",
      "Z    190\n",
      "Name: Sales, dtype: int64\n"
     ]
    }
   ],
   "source": [
    "import pandas as pd\n",
    "data = {\n",
    "    'Product': ['A', 'B', 'A', 'B', 'C', 'A', 'C', 'B'],\n",
    "    'Category': ['X', 'Y', 'X', 'Y', 'Z', 'X', 'Z', 'Y'],\n",
    "    'Sales': [100, 150, 120, 200, 80, 90, 110, 170]\n",
    "}\n",
    "\n",
    "df = pd.DataFrame(data)\n",
    "\n",
    "# Grouping by 'Category' and calculating total sales\n",
    "sales_by_category = df.groupby('Category')['Sales'].sum()\n",
    "print(sales_by_category)"
   ]
  },
  {
   "attachments": {},
   "cell_type": "markdown",
   "id": "a887be35-4fd5-4aa0-b0ca-ef0cd7a75eb5",
   "metadata": {},
   "source": [
    "Q 6 i.Series: A Series in pandas is a one-dimensional labeled array that can hold any data type. It is mutable,we can modify its values, add new elements, or remove existing elements.\n",
    "\n",
    "ii. DataFrame: A DataFrame in pandas is a two-dimensional labeled data structure with columns of potentially different data types. It is also mutable, allowing to modify its values, add or remove columns, and perform various operations on the data.\n",
    "\n",
    "iii. Panel: A Panel in pandas is a three-dimensional data structure that can be thought of as a container for multiple DataFrames. However, starting from pandas version 0.20.0, the Panel structure has been deprecated as a primary data structure, and it is recommended to use MultiIndex DataFrames or other data structures instead. Panels are not mutable."
   ]
  },
  {
   "cell_type": "code",
   "execution_count": 3,
   "id": "6d889158-b268-4bed-b4a3-9f06cd3380e8",
   "metadata": {},
   "outputs": [
    {
     "ename": "SyntaxError",
     "evalue": "invalid syntax (1625769088.py, line 1)",
     "output_type": "error",
     "traceback": [
      "\u001b[0;36m  Cell \u001b[0;32mIn[3], line 1\u001b[0;36m\u001b[0m\n\u001b[0;31m    Q 7.\u001b[0m\n\u001b[0m      ^\u001b[0m\n\u001b[0;31mSyntaxError\u001b[0m\u001b[0;31m:\u001b[0m invalid syntax\n"
     ]
    }
   ],
   "source": [
    "Q 7. "
   ]
  },
  {
   "cell_type": "code",
   "execution_count": 4,
   "id": "cefa41ce-b632-44e6-b4ef-b342077f4d2f",
   "metadata": {},
   "outputs": [
    {
     "name": "stdout",
     "output_type": "stream",
     "text": [
      "     Name  Age       City\n",
      "0    John   25      Delhi\n",
      "1  Himani   28     Mumbai\n",
      "2  Michle   32  Bangalore\n"
     ]
    }
   ],
   "source": [
    "import pandas as pd\n",
    "\n",
    "# Creating the Series\n",
    "name_series = pd.Series(['John', 'Himani', 'Michle'])\n",
    "age_series = pd.Series([25, 28, 32])\n",
    "city_series = pd.Series(['Delhi', 'Mumbai', 'Bangalore'])\n",
    "\n",
    "# Creating the DataFrame\n",
    "df = pd.DataFrame({'Name': name_series, 'Age': age_series, 'City': city_series})\n",
    "\n",
    "print(df)"
   ]
  },
  {
   "cell_type": "code",
   "execution_count": null,
   "id": "1e3dd3d9-2c67-461f-b566-0af2bec47d9a",
   "metadata": {},
   "outputs": [],
   "source": []
  }
 ],
 "metadata": {
  "kernelspec": {
   "display_name": "Python 3 (ipykernel)",
   "language": "python",
   "name": "python3"
  },
  "language_info": {
   "codemirror_mode": {
    "name": "ipython",
    "version": 3
   },
   "file_extension": ".py",
   "mimetype": "text/x-python",
   "name": "python",
   "nbconvert_exporter": "python",
   "pygments_lexer": "ipython3",
   "version": "3.10.8"
  }
 },
 "nbformat": 4,
 "nbformat_minor": 5
}
